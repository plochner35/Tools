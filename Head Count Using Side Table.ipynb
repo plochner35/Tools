{
 "cells": [
  {
   "cell_type": "code",
   "execution_count": 2,
   "id": "political-margin",
   "metadata": {},
   "outputs": [],
   "source": [
    "import pandas as pd\n",
    "import numpy as np\n",
    "import openpyxl"
   ]
  },
  {
   "cell_type": "code",
   "execution_count": 3,
   "id": "stretch-average",
   "metadata": {},
   "outputs": [
    {
     "name": "stdout",
     "output_type": "stream",
     "text": [
      "C:\\Users\\User1\\OneDrive\\Personal Vault\\GRF Work Folder 2\\Head count\n"
     ]
    }
   ],
   "source": [
    "cd C:\\Users\\User1\\OneDrive\\Personal Vault\\GRF Work Folder 2\\Head count"
   ]
  },
  {
   "cell_type": "code",
   "execution_count": 5,
   "id": "outside-restaurant",
   "metadata": {},
   "outputs": [],
   "source": [
    "df1=pd.read_excel('March 2021 Headcount.xlsx')\n",
    "df2=pd.read_excel('March 2020 Headcount.xlsx')\n",
    "df3=pd.read_excel('Jan 2021 Headcount.xlsx')\n",
    "df4=pd.read_excel('Jan 2020 Headcount.xlsx')\n",
    "df5=pd.read_excel('Feb 2021 Headcount.xlsx')\n",
    "df6=pd.read_excel('Feb 2020 Headcount.xlsx')\n",
    "df7=pd.read_excel('April 2021 Headcount.xlsx')\n",
    "df8=pd.read_excel('April 2020 Headcount.xlsx')\n",
    "df9=pd.read_excel('May 2021 Headcount.xlsx')\n",
    "df10=pd.read_excel('May 2020  Headcount.xlsx')"
   ]
  },
  {
   "cell_type": "code",
   "execution_count": 1,
   "id": "increased-richards",
   "metadata": {},
   "outputs": [],
   "source": [
    "#df1.head(1)"
   ]
  },
  {
   "cell_type": "code",
   "execution_count": 2,
   "id": "preceding-diving",
   "metadata": {},
   "outputs": [],
   "source": [
    "#df2.head(1)"
   ]
  },
  {
   "cell_type": "code",
   "execution_count": 3,
   "id": "structured-massachusetts",
   "metadata": {},
   "outputs": [],
   "source": [
    "#df8.head(1)"
   ]
  },
  {
   "cell_type": "code",
   "execution_count": 6,
   "id": "popular-telling",
   "metadata": {},
   "outputs": [],
   "source": [
    "frames = [df1,df2,df3,df4,df5,df6,df7,df8,df9,df10]"
   ]
  },
  {
   "cell_type": "code",
   "execution_count": 7,
   "id": "postal-brazilian",
   "metadata": {},
   "outputs": [],
   "source": [
    "dataframe = pd.concat(frames)"
   ]
  },
  {
   "cell_type": "code",
   "execution_count": 4,
   "id": "animal-particle",
   "metadata": {},
   "outputs": [],
   "source": [
    "#dataframe.head()"
   ]
  },
  {
   "cell_type": "code",
   "execution_count": 8,
   "id": "automatic-failure",
   "metadata": {},
   "outputs": [
    {
     "name": "stdout",
     "output_type": "stream",
     "text": [
      "Index(['Department  ', 'Unnamed: 1', 'Unnamed: 2', 'Unnamed: 3',\n",
      "       'First Name  ', 'Unnamed: 5', 'Unnamed: 6', 'Last Name  ', 'Unnamed: 8',\n",
      "       'Employee Type  ', 'Date', 'Unnamed: 11', 'Unnamed: 12'],\n",
      "      dtype='object')\n"
     ]
    }
   ],
   "source": [
    "print(dataframe.columns)"
   ]
  },
  {
   "cell_type": "code",
   "execution_count": 9,
   "id": "handmade-rainbow",
   "metadata": {},
   "outputs": [],
   "source": [
    "drop = ['Unnamed: 1', 'Unnamed: 2', 'Unnamed: 3','Unnamed: 5', 'Unnamed: 6','Unnamed: 8', 'Unnamed: 11', 'Unnamed: 12']"
   ]
  },
  {
   "cell_type": "code",
   "execution_count": 10,
   "id": "nervous-discussion",
   "metadata": {},
   "outputs": [],
   "source": [
    "dataframe.drop(drop, axis=1, inplace=True)"
   ]
  },
  {
   "cell_type": "code",
   "execution_count": 11,
   "id": "imported-audience",
   "metadata": {},
   "outputs": [
    {
     "name": "stdout",
     "output_type": "stream",
     "text": [
      "Index(['Department  ', 'First Name  ', 'Last Name  ', 'Employee Type  ',\n",
      "       'Date'],\n",
      "      dtype='object')\n"
     ]
    }
   ],
   "source": [
    "print(dataframe.columns)"
   ]
  },
  {
   "cell_type": "code",
   "execution_count": 12,
   "id": "double-threshold",
   "metadata": {},
   "outputs": [],
   "source": [
    "import sidetable"
   ]
  },
  {
   "cell_type": "code",
   "execution_count": 13,
   "id": "static-sharp",
   "metadata": {},
   "outputs": [],
   "source": [
    "dataframe_view=dataframe.groupby(['Date','Department  ', 'Employee Type  ']).agg({'Employee Type  ': ['count']}).stb.subtotal()"
   ]
  },
  {
   "cell_type": "code",
   "execution_count": 5,
   "id": "numeric-ribbon",
   "metadata": {},
   "outputs": [],
   "source": [
    "#dataframe_view"
   ]
  },
  {
   "cell_type": "code",
   "execution_count": 16,
   "id": "intellectual-amplifier",
   "metadata": {},
   "outputs": [],
   "source": [
    "#writer = pd.ExcelWriter(\"my-headcount.xlsx\")\n",
    "#dataframe_view.to_excel(writer,\"head count\")"
   ]
  },
  {
   "cell_type": "code",
   "execution_count": 14,
   "id": "ready-florida",
   "metadata": {},
   "outputs": [],
   "source": [
    "dataframe_view.to_excel(\"my-headcount_full_part_time.xlsx\")"
   ]
  },
  {
   "cell_type": "code",
   "execution_count": null,
   "id": "negative-leonard",
   "metadata": {},
   "outputs": [],
   "source": []
  }
 ],
 "metadata": {
  "kernelspec": {
   "display_name": "Python 3",
   "language": "python",
   "name": "python3"
  },
  "language_info": {
   "codemirror_mode": {
    "name": "ipython",
    "version": 3
   },
   "file_extension": ".py",
   "mimetype": "text/x-python",
   "name": "python",
   "nbconvert_exporter": "python",
   "pygments_lexer": "ipython3",
   "version": "3.7.4"
  }
 },
 "nbformat": 4,
 "nbformat_minor": 5
}
