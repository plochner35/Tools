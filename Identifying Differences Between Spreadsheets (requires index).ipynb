{
 "cells": [
  {
   "cell_type": "code",
   "execution_count": 37,
   "id": "stable-acoustic",
   "metadata": {},
   "outputs": [],
   "source": [
    "import pandas as pd\n",
    "import numpy as np\n",
    "import openpyxl"
   ]
  },
  {
   "cell_type": "markdown",
   "id": "rational-production",
   "metadata": {},
   "source": [
    "# Define the diff function to show the changes in each field"
   ]
  },
  {
   "cell_type": "code",
   "execution_count": 38,
   "id": "cooperative-pound",
   "metadata": {},
   "outputs": [],
   "source": [
    "def report_diff(x):\n",
    "    return x[0] if x[0] == x[1] else '{} ---> {}'.format(*x)"
   ]
  },
  {
   "cell_type": "code",
   "execution_count": 39,
   "id": "exclusive-produce",
   "metadata": {},
   "outputs": [
    {
     "name": "stdout",
     "output_type": "stream",
     "text": [
      "C:\\Users\\User1\\OneDrive\\Desktop\\Comparisions\n"
     ]
    }
   ],
   "source": [
    "cd C:\\Users\\User1\\OneDrive\\Desktop\\Comparisions"
   ]
  },
  {
   "cell_type": "markdown",
   "id": "psychological-windows",
   "metadata": {},
   "source": [
    "# Read in the excel file and assign a new column with values to keep track of origin of data"
   ]
  },
  {
   "cell_type": "code",
   "execution_count": 40,
   "id": "equal-seattle",
   "metadata": {},
   "outputs": [],
   "source": [
    "df1=pd.read_excel('Utilization Report for January 2020.xlsx', na_values=['NaN'])\n",
    "df2=pd.read_excel('PowerBI version 1 data for 2020 comparision.xlsx', na_values=['NaN'])\n",
    "df1['version'] = \"old\"\n",
    "df2['version'] = \"new\""
   ]
  },
  {
   "cell_type": "code",
   "execution_count": 9,
   "id": "union-shoot",
   "metadata": {},
   "outputs": [],
   "source": [
    "#df1.head()"
   ]
  },
  {
   "cell_type": "code",
   "execution_count": 10,
   "id": "strategic-indiana",
   "metadata": {},
   "outputs": [],
   "source": [
    "#df2.head()"
   ]
  },
  {
   "cell_type": "markdown",
   "id": "rolled-termination",
   "metadata": {},
   "source": [
    "# Rename the Columns to the same name for both data frames"
   ]
  },
  {
   "cell_type": "code",
   "execution_count": 11,
   "id": "beneficial-twins",
   "metadata": {},
   "outputs": [],
   "source": [
    "#df1=df1.rename({'Name':'Full Name','LY Billable':'LY Billable Hours','Total Hours':'LY Total Hours','Utilization': 'LY Util %'}, axis=1)\n",
    "#df1.head(2)"
   ]
  },
  {
   "cell_type": "markdown",
   "id": "measured-sunrise",
   "metadata": {},
   "source": [
    "# Columns have different value types, converting the strings (objects) to numeric"
   ]
  },
  {
   "cell_type": "code",
   "execution_count": 13,
   "id": "upper-syria",
   "metadata": {},
   "outputs": [],
   "source": [
    "#cols = ['LY Billable Hours', 'LY Total Hours']\n",
    "#df1[cols] = df1[cols].apply(pd.to_numeric, errors='coerce', axis=1)\n",
    "#df1.head()"
   ]
  },
  {
   "cell_type": "markdown",
   "id": "demonstrated-provider",
   "metadata": {},
   "source": [
    "# Confirm data types"
   ]
  },
  {
   "cell_type": "code",
   "execution_count": 46,
   "id": "floral-fireplace",
   "metadata": {},
   "outputs": [
    {
     "data": {
      "text/plain": [
       "Department            object\n",
       "Full Name             object\n",
       "LY Billable Hours    float64\n",
       "LY Total Hours       float64\n",
       "LY Util %            float64\n",
       "version               object\n",
       "dtype: object"
      ]
     },
     "execution_count": 46,
     "metadata": {},
     "output_type": "execute_result"
    }
   ],
   "source": [
    "df1.dtypes"
   ]
  },
  {
   "cell_type": "code",
   "execution_count": 47,
   "id": "great-scanner",
   "metadata": {},
   "outputs": [
    {
     "data": {
      "text/plain": [
       "Department            object\n",
       "Full Name             object\n",
       "LY Billable Hours    float64\n",
       "LY Total Hours       float64\n",
       "LY Util %            float64\n",
       "version               object\n",
       "dtype: object"
      ]
     },
     "execution_count": 47,
     "metadata": {},
     "output_type": "execute_result"
    }
   ],
   "source": [
    "df2.dtypes"
   ]
  },
  {
   "cell_type": "code",
   "execution_count": 48,
   "id": "caring-tunisia",
   "metadata": {},
   "outputs": [],
   "source": [
    "df1=df1.fillna(0)\n",
    "df2=df2.fillna(0)"
   ]
  },
  {
   "cell_type": "markdown",
   "id": "corrected-trinity",
   "metadata": {},
   "source": [
    "# We use the account numbers as the keys to check what is added, dropped and potentially changed\n",
    "\n",
    "# Using sets makes the deduping easy and we can use set operations to figure out groupings"
   ]
  },
  {
   "cell_type": "code",
   "execution_count": 49,
   "id": "loaded-browser",
   "metadata": {},
   "outputs": [],
   "source": [
    "old_data_all = set(df1['Full Name'])\n",
    "new_data_all = set(df2['Full Name'])\n",
    "\n",
    "dropped_data = old_data_all - new_data_all\n",
    "added_data = new_data_all - old_data_all"
   ]
  },
  {
   "cell_type": "markdown",
   "id": "greenhouse-currency",
   "metadata": {},
   "source": [
    "# Join all the data together and ignore indexes so it all gets concatenated"
   ]
  },
  {
   "cell_type": "code",
   "execution_count": 50,
   "id": "corrected-mixer",
   "metadata": {},
   "outputs": [],
   "source": [
    "all_data = pd.concat([df1,df2],ignore_index=True)"
   ]
  },
  {
   "cell_type": "code",
   "execution_count": 14,
   "id": "democratic-charge",
   "metadata": {},
   "outputs": [],
   "source": [
    "#all_data.head()"
   ]
  },
  {
   "cell_type": "markdown",
   "id": "thermal-auditor",
   "metadata": {},
   "source": [
    "# Let's see what changes in the main columns we care about\n",
    "# Change drop_duplicates syntax: keep=last"
   ]
  },
  {
   "cell_type": "code",
   "execution_count": 52,
   "id": "ethical-karaoke",
   "metadata": {},
   "outputs": [],
   "source": [
    "changes = all_data.drop_duplicates(subset=[\"Department\",\"Full Name\", \n",
    "                                           \"LY Billable Hours\", \"LY Total Hours\", \n",
    "                                           \"LY Util %\"], keep='last')"
   ]
  },
  {
   "cell_type": "code",
   "execution_count": 15,
   "id": "republican-strengthening",
   "metadata": {},
   "outputs": [],
   "source": [
    "#changes.head()"
   ]
  },
  {
   "cell_type": "markdown",
   "id": "congressional-press",
   "metadata": {},
   "source": [
    "# Get all the duplicate rows"
   ]
  },
  {
   "cell_type": "code",
   "execution_count": 54,
   "id": "focal-silly",
   "metadata": {},
   "outputs": [],
   "source": [
    "dupe_accts = changes[changes['Full Name'].duplicated() == True]['Full Name'].tolist()\n",
    "dupes = changes[changes[\"Full Name\"].isin(dupe_accts)]"
   ]
  },
  {
   "cell_type": "code",
   "execution_count": 16,
   "id": "continental-details",
   "metadata": {},
   "outputs": [],
   "source": [
    "#dupes"
   ]
  },
  {
   "cell_type": "markdown",
   "id": "opposite-shirt",
   "metadata": {},
   "source": [
    "# Pull out the old and new data into separate dataframes"
   ]
  },
  {
   "cell_type": "code",
   "execution_count": 56,
   "id": "brazilian-increase",
   "metadata": {},
   "outputs": [],
   "source": [
    "change_new = dupes[(dupes[\"version\"] == \"new\")]\n",
    "change_old = dupes[(dupes[\"version\"] == \"old\")]"
   ]
  },
  {
   "cell_type": "markdown",
   "id": "angry-strategy",
   "metadata": {},
   "source": [
    "# Drop the temp columns - we don't need them now"
   ]
  },
  {
   "cell_type": "code",
   "execution_count": 20,
   "id": "potential-melbourne",
   "metadata": {},
   "outputs": [],
   "source": [
    "#change_new = change_new.drop(['version'], axis=1)\n",
    "#change_old = change_old.drop(['version'], axis=1)"
   ]
  },
  {
   "cell_type": "markdown",
   "id": "surgical-dylan",
   "metadata": {},
   "source": [
    "# Index on the Full Name"
   ]
  },
  {
   "cell_type": "code",
   "execution_count": null,
   "id": "statutory-solution",
   "metadata": {},
   "outputs": [],
   "source": [
    "#change_new.set_index('Full Name', inplace=True)\n",
    "#change_old.set_index('Full Name', inplace=True)"
   ]
  },
  {
   "cell_type": "code",
   "execution_count": 72,
   "id": "dress-wildlife",
   "metadata": {},
   "outputs": [],
   "source": [
    "#df_all_changes = pd.concat([change_old, change_new],\n",
    "                           #axis='columns',\n",
    "                           #keys=['old', 'new'],\n",
    "                           #join='outer')"
   ]
  },
  {
   "cell_type": "code",
   "execution_count": 27,
   "id": "otherwise-notification",
   "metadata": {},
   "outputs": [],
   "source": [
    "#df_all_changes.head()"
   ]
  },
  {
   "cell_type": "code",
   "execution_count": 3,
   "id": "blind-lincoln",
   "metadata": {},
   "outputs": [],
   "source": [
    "#df_all_changes = df_all_changes.swaplevel(axis='columns')[change_new.columns[0:]]"
   ]
  },
  {
   "cell_type": "code",
   "execution_count": 4,
   "id": "anticipated-homeless",
   "metadata": {},
   "outputs": [],
   "source": [
    "#df_all_changes"
   ]
  },
  {
   "cell_type": "code",
   "execution_count": 5,
   "id": "careful-questionnaire",
   "metadata": {},
   "outputs": [],
   "source": [
    "#df_changed = df_all_changes.groupby(level=0,axis=1).apply(lambda frame: frame.apply(report_diff, axis=1))\n",
    "#df_changed = df_changed.reset_index()"
   ]
  },
  {
   "cell_type": "code",
   "execution_count": 6,
   "id": "expensive-designer",
   "metadata": {},
   "outputs": [],
   "source": [
    "#df_changed"
   ]
  },
  {
   "cell_type": "code",
   "execution_count": null,
   "id": "greater-intervention",
   "metadata": {},
   "outputs": [],
   "source": []
  },
  {
   "cell_type": "markdown",
   "id": "endless-stand",
   "metadata": {},
   "source": [
    "# Diff'ing is done, we need to get a list of removed and added items"
   ]
  },
  {
   "cell_type": "code",
   "execution_count": 7,
   "id": "protective-alcohol",
   "metadata": {},
   "outputs": [],
   "source": [
    "#df_removed = changes[changes[\"Full Name\"].isin(dropped_data)]\n",
    "#df_removed"
   ]
  },
  {
   "cell_type": "code",
   "execution_count": 8,
   "id": "compliant-january",
   "metadata": {},
   "outputs": [],
   "source": [
    "#df_added = changes[changes[\"Full Name\"].isin(added_data)]\n",
    "#df_added"
   ]
  },
  {
   "cell_type": "code",
   "execution_count": null,
   "id": "russian-democrat",
   "metadata": {},
   "outputs": [],
   "source": []
  },
  {
   "cell_type": "markdown",
   "id": "caroline-amendment",
   "metadata": {},
   "source": [
    "# Save the changes to excel but only include the columns we care about"
   ]
  },
  {
   "cell_type": "code",
   "execution_count": 137,
   "id": "widespread-index",
   "metadata": {},
   "outputs": [],
   "source": [
    "output_columns = [\"Department\", \"Full Name\", \"LY Billable Hours\", \"LY Total Hours\", \"LY Util %\"]\n",
    "writer = pd.ExcelWriter(\"my-diff.xlsx\")\n",
    "df_changed.to_excel(writer,\"changed\", index=False, columns=output_columns)\n",
    "df_removed.to_excel(writer,\"removed\",index=False, columns=output_columns)\n",
    "df_added.to_excel(writer,\"added\",index=False, columns=output_columns)\n",
    "writer.save()"
   ]
  },
  {
   "cell_type": "code",
   "execution_count": 62,
   "id": "patient-batch",
   "metadata": {},
   "outputs": [],
   "source": []
  },
  {
   "cell_type": "code",
   "execution_count": null,
   "id": "apart-protocol",
   "metadata": {},
   "outputs": [],
   "source": []
  },
  {
   "cell_type": "code",
   "execution_count": null,
   "id": "current-pendant",
   "metadata": {},
   "outputs": [],
   "source": []
  },
  {
   "cell_type": "code",
   "execution_count": null,
   "id": "muslim-rubber",
   "metadata": {},
   "outputs": [],
   "source": []
  },
  {
   "cell_type": "code",
   "execution_count": null,
   "id": "attempted-corrections",
   "metadata": {},
   "outputs": [],
   "source": []
  },
  {
   "cell_type": "code",
   "execution_count": null,
   "id": "funky-basket",
   "metadata": {},
   "outputs": [],
   "source": []
  },
  {
   "cell_type": "code",
   "execution_count": null,
   "id": "subject-auditor",
   "metadata": {},
   "outputs": [],
   "source": []
  },
  {
   "cell_type": "code",
   "execution_count": null,
   "id": "reverse-lucas",
   "metadata": {},
   "outputs": [],
   "source": []
  },
  {
   "cell_type": "code",
   "execution_count": null,
   "id": "changing-positive",
   "metadata": {},
   "outputs": [],
   "source": []
  },
  {
   "cell_type": "code",
   "execution_count": null,
   "id": "indoor-promise",
   "metadata": {},
   "outputs": [],
   "source": []
  },
  {
   "cell_type": "code",
   "execution_count": 69,
   "id": "adaptive-class",
   "metadata": {},
   "outputs": [],
   "source": []
  },
  {
   "cell_type": "code",
   "execution_count": null,
   "id": "yellow-newspaper",
   "metadata": {},
   "outputs": [],
   "source": []
  },
  {
   "cell_type": "code",
   "execution_count": null,
   "id": "classified-fiber",
   "metadata": {},
   "outputs": [],
   "source": []
  },
  {
   "cell_type": "code",
   "execution_count": null,
   "id": "preliminary-family",
   "metadata": {},
   "outputs": [],
   "source": []
  },
  {
   "cell_type": "code",
   "execution_count": null,
   "id": "middle-cisco",
   "metadata": {},
   "outputs": [],
   "source": []
  },
  {
   "cell_type": "code",
   "execution_count": null,
   "id": "colored-apple",
   "metadata": {},
   "outputs": [],
   "source": []
  },
  {
   "cell_type": "code",
   "execution_count": null,
   "id": "joined-assist",
   "metadata": {},
   "outputs": [],
   "source": []
  },
  {
   "cell_type": "code",
   "execution_count": null,
   "id": "initial-senegal",
   "metadata": {},
   "outputs": [],
   "source": []
  },
  {
   "cell_type": "code",
   "execution_count": null,
   "id": "formal-ozone",
   "metadata": {},
   "outputs": [],
   "source": []
  },
  {
   "cell_type": "code",
   "execution_count": 218,
   "id": "attempted-member",
   "metadata": {},
   "outputs": [],
   "source": []
  },
  {
   "cell_type": "code",
   "execution_count": 219,
   "id": "wound-surgeon",
   "metadata": {},
   "outputs": [],
   "source": []
  },
  {
   "cell_type": "code",
   "execution_count": null,
   "id": "apart-abuse",
   "metadata": {},
   "outputs": [],
   "source": []
  },
  {
   "cell_type": "code",
   "execution_count": null,
   "id": "promotional-leisure",
   "metadata": {},
   "outputs": [],
   "source": []
  },
  {
   "cell_type": "code",
   "execution_count": null,
   "id": "characteristic-reward",
   "metadata": {},
   "outputs": [],
   "source": []
  },
  {
   "cell_type": "code",
   "execution_count": null,
   "id": "eastern-plane",
   "metadata": {},
   "outputs": [],
   "source": []
  },
  {
   "cell_type": "code",
   "execution_count": 228,
   "id": "prepared-double",
   "metadata": {},
   "outputs": [],
   "source": []
  },
  {
   "cell_type": "code",
   "execution_count": 229,
   "id": "vocal-request",
   "metadata": {},
   "outputs": [],
   "source": []
  },
  {
   "cell_type": "code",
   "execution_count": null,
   "id": "large-supervisor",
   "metadata": {},
   "outputs": [],
   "source": []
  },
  {
   "cell_type": "code",
   "execution_count": null,
   "id": "alternate-means",
   "metadata": {},
   "outputs": [],
   "source": []
  },
  {
   "cell_type": "code",
   "execution_count": null,
   "id": "compressed-sacrifice",
   "metadata": {},
   "outputs": [],
   "source": []
  },
  {
   "cell_type": "code",
   "execution_count": null,
   "id": "preliminary-paintball",
   "metadata": {},
   "outputs": [],
   "source": []
  },
  {
   "cell_type": "code",
   "execution_count": 28,
   "id": "outside-showcase",
   "metadata": {},
   "outputs": [],
   "source": []
  },
  {
   "cell_type": "code",
   "execution_count": null,
   "id": "attempted-macro",
   "metadata": {},
   "outputs": [],
   "source": []
  },
  {
   "cell_type": "code",
   "execution_count": null,
   "id": "complicated-melissa",
   "metadata": {},
   "outputs": [],
   "source": []
  },
  {
   "cell_type": "code",
   "execution_count": null,
   "id": "premium-nomination",
   "metadata": {},
   "outputs": [],
   "source": []
  },
  {
   "cell_type": "code",
   "execution_count": null,
   "id": "acceptable-bumper",
   "metadata": {},
   "outputs": [],
   "source": []
  },
  {
   "cell_type": "code",
   "execution_count": null,
   "id": "threaded-sleep",
   "metadata": {},
   "outputs": [],
   "source": []
  },
  {
   "cell_type": "code",
   "execution_count": null,
   "id": "respective-gasoline",
   "metadata": {},
   "outputs": [],
   "source": []
  }
 ],
 "metadata": {
  "kernelspec": {
   "display_name": "Python 3",
   "language": "python",
   "name": "python3"
  },
  "language_info": {
   "codemirror_mode": {
    "name": "ipython",
    "version": 3
   },
   "file_extension": ".py",
   "mimetype": "text/x-python",
   "name": "python",
   "nbconvert_exporter": "python",
   "pygments_lexer": "ipython3",
   "version": "3.7.4"
  }
 },
 "nbformat": 4,
 "nbformat_minor": 5
}
