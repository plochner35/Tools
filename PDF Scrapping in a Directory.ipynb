{
 "cells": [
  {
   "cell_type": "code",
   "execution_count": 1,
   "id": "bearing-reporter",
   "metadata": {},
   "outputs": [],
   "source": [
    "import tabula\n",
    "import numpy as np\n",
    "import pandas as pd"
   ]
  },
  {
   "cell_type": "code",
   "execution_count": 2,
   "id": "polar-choice",
   "metadata": {},
   "outputs": [
    {
     "name": "stdout",
     "output_type": "stream",
     "text": [
      "C:\\Users\\User1\\OneDrive\\GRF Work Folder\\Desktop Work Home\\GRF Work Folder 2\\Cash Receipts\\March 31, 2021 Cash Receipts - Copy for Use\n"
     ]
    }
   ],
   "source": [
    "cd \"C:\\Users\\User1\\OneDrive\\GRF Work Folder\\Desktop Work Home\\GRF Work Folder 2\\Cash Receipts\\March 31, 2021 Cash Receipts - Copy for Use\""
   ]
  },
  {
   "cell_type": "code",
   "execution_count": 5,
   "id": "single-fraction",
   "metadata": {},
   "outputs": [],
   "source": [
    "#Parse a pdf\n",
    "\n",
    "#raw_data=tabula.read_pdf(r\"C:\\Users\\User1\\OneDrive\\GRF Work Folder\\Desktop Work Home\\GRF Work Folder 2\\Cash Receipts\\010100.pdf\", multiple_tables=False)"
   ]
  },
  {
   "cell_type": "code",
   "execution_count": 7,
   "id": "suited-astronomy",
   "metadata": {},
   "outputs": [],
   "source": [
    "#raw_data"
   ]
  },
  {
   "cell_type": "code",
   "execution_count": 8,
   "id": "superb-potential",
   "metadata": {},
   "outputs": [],
   "source": [
    "###converts all pdf files into a directory into CSV files\n",
    "tabula.convert_into_by_batch(r\"C:\\Users\\User1\\OneDrive\\GRF Work Folder\\Desktop Work Home\\GRF Work Folder 2\\Cash Receipts\\March 31, 2021 Cash Receipts - Copy for Use\", output_format = \"csv\", pages = \"all\")"
   ]
  },
  {
   "cell_type": "code",
   "execution_count": null,
   "id": "athletic-recorder",
   "metadata": {},
   "outputs": [],
   "source": [
    "\n"
   ]
  },
  {
   "cell_type": "code",
   "execution_count": 1,
   "id": "coated-nickel",
   "metadata": {},
   "outputs": [],
   "source": [
    "import glob\n",
    "import pandas as pd\n",
    "\n",
    "#path = r\"C:\\Users\\User1\\OneDrive\\GRF Work Folder\\Desktop Work Home\\GRF Work Folder 2\\Cash Receipts\\March 31, 2021 Cash Receipts - Copy for Use\\*.csv\"\n",
    "#for fname in glob.glob(path):\n",
    "    #df = pd.read_csv(fname, delim_whitespace=True)"
   ]
  },
  {
   "cell_type": "code",
   "execution_count": null,
   "id": "faced-mountain",
   "metadata": {},
   "outputs": [],
   "source": []
  },
  {
   "cell_type": "code",
   "execution_count": 93,
   "id": "sufficient-honduras",
   "metadata": {},
   "outputs": [],
   "source": [
    "import numpy as np\n",
    "df=pd.DataFrame(np.concatenate(pdf_tables))"
   ]
  },
  {
   "cell_type": "code",
   "execution_count": 95,
   "id": "adapted-austria",
   "metadata": {},
   "outputs": [
    {
     "data": {
      "text/plain": [
       "(3, 7)"
      ]
     },
     "execution_count": 95,
     "metadata": {},
     "output_type": "execute_result"
    }
   ],
   "source": [
    "df.head()\n",
    "df.shape"
   ]
  },
  {
   "cell_type": "code",
   "execution_count": 96,
   "id": "prescribed-caution",
   "metadata": {},
   "outputs": [],
   "source": [
    "df.columns=['Client_Code','Client_Name','Check','Check_Date','Deposit_Date','Invoice','Amount']"
   ]
  },
  {
   "cell_type": "code",
   "execution_count": 2,
   "id": "surprised-check",
   "metadata": {},
   "outputs": [],
   "source": [
    "#df.head(5)"
   ]
  },
  {
   "cell_type": "code",
   "execution_count": 98,
   "id": "expired-butter",
   "metadata": {},
   "outputs": [],
   "source": [
    "drop=['Check','Check_Date','Deposit_Date','Invoice']"
   ]
  },
  {
   "cell_type": "code",
   "execution_count": 3,
   "id": "intended-things",
   "metadata": {},
   "outputs": [],
   "source": [
    "#df.drop(drop, axis=1)"
   ]
  },
  {
   "cell_type": "code",
   "execution_count": 100,
   "id": "continent-drilling",
   "metadata": {},
   "outputs": [],
   "source": [
    "data_to_save=df.groupby(['Client_Code']).sum()"
   ]
  },
  {
   "cell_type": "code",
   "execution_count": 102,
   "id": "sixth-insertion",
   "metadata": {},
   "outputs": [
    {
     "data": {
      "text/plain": [
       "(1, 6)"
      ]
     },
     "execution_count": 102,
     "metadata": {},
     "output_type": "execute_result"
    }
   ],
   "source": [
    "data_to_save.head(10)\n",
    "data_to_save.shape"
   ]
  },
  {
   "cell_type": "code",
   "execution_count": 61,
   "id": "hollywood-uncertainty",
   "metadata": {},
   "outputs": [],
   "source": []
  },
  {
   "cell_type": "code",
   "execution_count": null,
   "id": "consistent-bobby",
   "metadata": {},
   "outputs": [],
   "source": []
  }
 ],
 "metadata": {
  "kernelspec": {
   "display_name": "Python 3",
   "language": "python",
   "name": "python3"
  },
  "language_info": {
   "codemirror_mode": {
    "name": "ipython",
    "version": 3
   },
   "file_extension": ".py",
   "mimetype": "text/x-python",
   "name": "python",
   "nbconvert_exporter": "python",
   "pygments_lexer": "ipython3",
   "version": "3.7.4"
  }
 },
 "nbformat": 4,
 "nbformat_minor": 5
}
