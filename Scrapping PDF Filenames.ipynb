{
 "cells": [
  {
   "cell_type": "code",
   "execution_count": null,
   "id": "encouraging-amateur",
   "metadata": {},
   "outputs": [],
   "source": [
    "import os, glob\n",
    "from tika import parser \n",
    "from pandas import DataFrame\n",
    "\n",
    "# What file extension to find, and where to look from\n",
    "ext = \"*.pdf\"\n",
    "PATH = \".\"\n",
    "\n",
    "# Find all the files with that extension\n",
    "files = []\n",
    "for dirpath, dirnames, filenames in os.walk(PATH):\n",
    "    files += glob.glob(os.path.join(dirpath, ext))\n",
    "\n",
    "# Create a Pandas Dataframe to hold the filenames and the text\n",
    "df = DataFrame(columns=(\"filename\",\"text\"))\n",
    "\n",
    "# Process each file in turn, parsing with Tika and storing in the dataframe\n",
    "for idx, filename in enumerate(files):\n",
    "   data = parser.from_file(filename)\n",
    "   text = data[\"content\"]\n",
    "   df.loc[idx] = [filename, text]\n",
    "\n",
    "# For debugging, print what we found\n",
    "print(df)"
   ]
  }
 ],
 "metadata": {
  "kernelspec": {
   "display_name": "Python 3",
   "language": "python",
   "name": "python3"
  },
  "language_info": {
   "codemirror_mode": {
    "name": "ipython",
    "version": 3
   },
   "file_extension": ".py",
   "mimetype": "text/x-python",
   "name": "python",
   "nbconvert_exporter": "python",
   "pygments_lexer": "ipython3",
   "version": "3.7.4"
  }
 },
 "nbformat": 4,
 "nbformat_minor": 5
}
