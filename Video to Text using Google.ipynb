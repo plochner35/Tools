{
 "cells": [
  {
   "cell_type": "code",
   "execution_count": 4,
   "id": "neither-spray",
   "metadata": {},
   "outputs": [
    {
     "name": "stdout",
     "output_type": "stream",
     "text": [
      "Requirement already satisfied: SpeechRecognition in c:\\users\\user1\\miniconda3\\lib\\site-packages (3.8.1)\n",
      "Requirement already satisfied: moviepy in c:\\users\\user1\\miniconda3\\lib\\site-packages (1.0.3)\n",
      "Requirement already satisfied: proglog<=1.0.0 in c:\\users\\user1\\miniconda3\\lib\\site-packages (from moviepy) (0.1.9)\n",
      "Requirement already satisfied: imageio<3.0,>=2.5; python_version >= \"3.4\" in c:\\users\\user1\\miniconda3\\lib\\site-packages (from moviepy) (2.9.0)\n",
      "Requirement already satisfied: imageio-ffmpeg>=0.2.0; python_version >= \"3.4\" in c:\\users\\user1\\miniconda3\\lib\\site-packages (from moviepy) (0.4.4)\n",
      "Requirement already satisfied: numpy>=1.17.3; python_version != \"2.7\" in c:\\users\\user1\\appdata\\roaming\\python\\python37\\site-packages (from moviepy) (1.20.0)\n",
      "Requirement already satisfied: decorator<5.0,>=4.0.2 in c:\\users\\user1\\miniconda3\\lib\\site-packages (from moviepy) (4.4.2)\n",
      "Requirement already satisfied: tqdm<5.0,>=4.11.2 in c:\\users\\user1\\miniconda3\\lib\\site-packages (from moviepy) (4.58.0)\n",
      "Requirement already satisfied: requests<3.0,>=2.8.1 in c:\\users\\user1\\miniconda3\\lib\\site-packages (from moviepy) (2.25.1)\n",
      "Requirement already satisfied: pillow in c:\\users\\user1\\miniconda3\\lib\\site-packages (from imageio<3.0,>=2.5; python_version >= \"3.4\"->moviepy) (8.1.0)\n",
      "Requirement already satisfied: certifi>=2017.4.17 in c:\\users\\user1\\miniconda3\\lib\\site-packages (from requests<3.0,>=2.8.1->moviepy) (2020.12.5)\n",
      "Requirement already satisfied: chardet<5,>=3.0.2 in c:\\users\\user1\\miniconda3\\lib\\site-packages (from requests<3.0,>=2.8.1->moviepy) (3.0.4)\n",
      "Requirement already satisfied: urllib3<1.27,>=1.21.1 in c:\\users\\user1\\miniconda3\\lib\\site-packages (from requests<3.0,>=2.8.1->moviepy) (1.24.2)\n",
      "Requirement already satisfied: idna<3,>=2.5 in c:\\users\\user1\\miniconda3\\lib\\site-packages (from requests<3.0,>=2.8.1->moviepy) (2.8)\n",
      "Requirement already satisfied: googletrans==3.1.0a0 in c:\\users\\user1\\miniconda3\\lib\\site-packages (3.1.0a0)\n",
      "Requirement already satisfied: httpx==0.13.3 in c:\\users\\user1\\miniconda3\\lib\\site-packages (from googletrans==3.1.0a0) (0.13.3)\n",
      "Requirement already satisfied: chardet==3.* in c:\\users\\user1\\miniconda3\\lib\\site-packages (from httpx==0.13.3->googletrans==3.1.0a0) (3.0.4)\n",
      "Requirement already satisfied: idna==2.* in c:\\users\\user1\\miniconda3\\lib\\site-packages (from httpx==0.13.3->googletrans==3.1.0a0) (2.8)\n",
      "Requirement already satisfied: certifi in c:\\users\\user1\\miniconda3\\lib\\site-packages (from httpx==0.13.3->googletrans==3.1.0a0) (2020.12.5)\n",
      "Requirement already satisfied: httpcore==0.9.* in c:\\users\\user1\\miniconda3\\lib\\site-packages (from httpx==0.13.3->googletrans==3.1.0a0) (0.9.1)\n",
      "Requirement already satisfied: rfc3986<2,>=1.3 in c:\\users\\user1\\miniconda3\\lib\\site-packages (from httpx==0.13.3->googletrans==3.1.0a0) (1.5.0)\n",
      "Requirement already satisfied: hstspreload in c:\\users\\user1\\miniconda3\\lib\\site-packages (from httpx==0.13.3->googletrans==3.1.0a0) (2020.12.22)\n",
      "Requirement already satisfied: sniffio in c:\\users\\user1\\miniconda3\\lib\\site-packages (from httpx==0.13.3->googletrans==3.1.0a0) (1.2.0)\n",
      "Requirement already satisfied: h2==3.* in c:\\users\\user1\\miniconda3\\lib\\site-packages (from httpcore==0.9.*->httpx==0.13.3->googletrans==3.1.0a0) (3.2.0)\n",
      "Requirement already satisfied: h11<0.10,>=0.8 in c:\\users\\user1\\miniconda3\\lib\\site-packages (from httpcore==0.9.*->httpx==0.13.3->googletrans==3.1.0a0) (0.9.0)\n",
      "Requirement already satisfied: hpack<4,>=3.0 in c:\\users\\user1\\miniconda3\\lib\\site-packages (from h2==3.*->httpcore==0.9.*->httpx==0.13.3->googletrans==3.1.0a0) (3.0.0)\n",
      "Requirement already satisfied: hyperframe<6,>=5.2.0 in c:\\users\\user1\\miniconda3\\lib\\site-packages (from h2==3.*->httpcore==0.9.*->httpx==0.13.3->googletrans==3.1.0a0) (5.2.0)\n"
     ]
    }
   ],
   "source": [
    "!pip install SpeechRecognition moviepy\n",
    "!pip install googletrans==3.1.0a0"
   ]
  },
  {
   "cell_type": "code",
   "execution_count": 5,
   "id": "freelance-advisory",
   "metadata": {},
   "outputs": [],
   "source": [
    "import speech_recognition as sr \n",
    "import moviepy.editor as mp\n",
    "import googletrans\n",
    "\n",
    "#print(googletrans.LANGUAGES)"
   ]
  },
  {
   "cell_type": "code",
   "execution_count": 42,
   "id": "brilliant-scheduling",
   "metadata": {},
   "outputs": [
    {
     "name": "stdout",
     "output_type": "stream",
     "text": [
      "C:\\Users\\User1\\OneDrive\\Pictures\\New folder\\Movie 15\n"
     ]
    }
   ],
   "source": [
    "cd C:\\Users\\User1\\OneDrive\\Pictures\\New folder\\Movie 15"
   ]
  },
  {
   "cell_type": "code",
   "execution_count": 43,
   "id": "rental-evolution",
   "metadata": {},
   "outputs": [
    {
     "name": "stderr",
     "output_type": "stream",
     "text": [
      "\r",
      "chunk:   0%|                                                                        | 0/2026 [00:00<?, ?it/s, now=None]"
     ]
    },
    {
     "name": "stdout",
     "output_type": "stream",
     "text": [
      "MoviePy - Writing audio in converted.wav\n"
     ]
    },
    {
     "name": "stderr",
     "output_type": "stream",
     "text": [
      "                                                                                                                       "
     ]
    },
    {
     "name": "stdout",
     "output_type": "stream",
     "text": [
      "MoviePy - Done.\n"
     ]
    },
    {
     "name": "stderr",
     "output_type": "stream",
     "text": [
      "\r"
     ]
    }
   ],
   "source": [
    "#conversion\n",
    "clip = mp.VideoFileClip(r'movie_test.mp4')\n",
    "clip.audio.write_audiofile(r'converted.wav')"
   ]
  },
  {
   "cell_type": "code",
   "execution_count": 44,
   "id": "asian-portugal",
   "metadata": {},
   "outputs": [],
   "source": [
    "#speech recognizer and audio file\n",
    "r = sr.Recognizer()\n",
    "audio = sr.AudioFile('converted.wav')"
   ]
  },
  {
   "cell_type": "code",
   "execution_count": 47,
   "id": "significant-withdrawal",
   "metadata": {},
   "outputs": [],
   "source": [
    "#recongnize speech\n",
    "try:\n",
    "    with audio as source:\n",
    "        audio_file = r.record(source)\n",
    "    transcripton = r.recognize_google(audio_file, language='th-TH')\n",
    "except sr.UnknownValueError:\n",
    "    print(\"Google Speech Recognition could not understand audio\")\n",
    "except sr.RequestError as e:\n",
    "    print(\"Could not request results from Google Speech Recognition service; {0}\".format(e))"
   ]
  },
  {
   "cell_type": "code",
   "execution_count": 29,
   "id": "pressed-pasta",
   "metadata": {},
   "outputs": [
    {
     "name": "stdout",
     "output_type": "stream",
     "text": [
      "ready!\n"
     ]
    }
   ],
   "source": [
    "# exporting the result \n",
    "with open('recognized.txt',mode ='w', encoding=\"utf-8\") as file: \n",
    "   file.write(\"Recognized Speech:\") \n",
    "   file.write(\"\\n\") \n",
    "   file.write(transcripton) \n",
    "   print(\"ready!\")"
   ]
  },
  {
   "cell_type": "code",
   "execution_count": 30,
   "id": "likely-short",
   "metadata": {},
   "outputs": [
    {
     "data": {
      "text/plain": [
       "'สวัสดีค่ะตอนนี้อยู่กับน้องแมวนะคะ 2 2 คนไม่ดีเป็นคนกับ 1 ตัวนะคะตัวนี้ดื้อที่สุดเลยค่ะดื้อมากๆเลยจะไปเข้าห้องน้ำก็ตามไปนั่งเฝ้าจะทำอะไรก็วิ่งตามจนเหยียบเลยค่ะอยากจะร้องเลยอ่ะเป็นช่องที่เพิ่งจะเปิดใหม่นะคะเราก็ไม่รู้ว่าเราจะทำอะไรดีเพราะเราไม่ค่อยถนัดอะไรสักเท่าไหร่อ่ะแต่งหน้าก็แต่งไม่ค่อยสวยจะสวยก็ต่อเมื่อใช้ App เท่านั้นจะทำกับข้าวก็ทำไม่เก่งจะกินโชว์ก็กินมูมมามก็เลยไม่รู้จะทำอะไรถ้าใครรู้ถ้าใครมีไอเดียนะไม่ใช่ว่ารู้ถ้าใครมีไอเดียนะสามารถเสนอเราได้นะหรือจะให้เราทำคลิปน้องแมวตัวนิ่มลงเรื่อยๆก็ได้นะคะแต่ขอบคุณทุกคนนะคะที่เข้ามา Follow เข้ามาติดตามขอบคุณขอบคุณมากๆเลยค่ะ'"
      ]
     },
     "execution_count": 30,
     "metadata": {},
     "output_type": "execute_result"
    }
   ],
   "source": [
    "transcripton"
   ]
  },
  {
   "cell_type": "code",
   "execution_count": 31,
   "id": "damaged-charger",
   "metadata": {},
   "outputs": [],
   "source": [
    "from googletrans import Translator"
   ]
  },
  {
   "cell_type": "code",
   "execution_count": 32,
   "id": "higher-emphasis",
   "metadata": {},
   "outputs": [],
   "source": [
    "translator = Translator()"
   ]
  },
  {
   "cell_type": "code",
   "execution_count": 33,
   "id": "settled-violence",
   "metadata": {},
   "outputs": [],
   "source": [
    "result = translator.translate(transcripton, src='th', dest='en')"
   ]
  },
  {
   "cell_type": "code",
   "execution_count": 34,
   "id": "incorporated-breath",
   "metadata": {},
   "outputs": [
    {
     "name": "stdout",
     "output_type": "stream",
     "text": [
      "Translated(src=th, dest=en, text=Hello, now I'm with my cat. 2 2 people are not good, this one is the most stubborn person, so stubborn. I want to sing at all. It is a newly opened channel. We do not know what we will do well because we are not very good at anything. Make up is not very beautiful. If anyone knows, if anyone has an idea, it's not that they know. If anyone has an idea, you can offer us or let us make a clip of a soft cat. It's fine but thank you everyone for coming in and following to follow. Thank you. Thank you very much., pronunciation=[[]], extra_data=\"{'translat...\")\n"
     ]
    }
   ],
   "source": [
    "print (result)"
   ]
  },
  {
   "cell_type": "code",
   "execution_count": 35,
   "id": "perfect-galaxy",
   "metadata": {},
   "outputs": [
    {
     "name": "stdout",
     "output_type": "stream",
     "text": [
      "Hello, now I'm with my cat. 2 2 people are not good, this one is the most stubborn person, so stubborn. I want to sing at all. It is a newly opened channel. We do not know what we will do well because we are not very good at anything. Make up is not very beautiful. If anyone knows, if anyone has an idea, it's not that they know. If anyone has an idea, you can offer us or let us make a clip of a soft cat. It's fine but thank you everyone for coming in and following to follow. Thank you. Thank you very much.\n"
     ]
    }
   ],
   "source": [
    "print (result.text)"
   ]
  },
  {
   "cell_type": "code",
   "execution_count": null,
   "id": "foster-november",
   "metadata": {},
   "outputs": [],
   "source": [
    "#write to a file"
   ]
  },
  {
   "cell_type": "code",
   "execution_count": 36,
   "id": "tested-jurisdiction",
   "metadata": {},
   "outputs": [],
   "source": [
    "with open('translation.txt', 'w') as out:\n",
    "    out.writelines(result.text)"
   ]
  },
  {
   "cell_type": "code",
   "execution_count": null,
   "id": "better-zimbabwe",
   "metadata": {},
   "outputs": [],
   "source": []
  },
  {
   "cell_type": "code",
   "execution_count": null,
   "id": "european-adolescent",
   "metadata": {},
   "outputs": [],
   "source": []
  },
  {
   "cell_type": "code",
   "execution_count": null,
   "id": "accurate-meeting",
   "metadata": {},
   "outputs": [],
   "source": []
  },
  {
   "cell_type": "code",
   "execution_count": null,
   "id": "concerned-uganda",
   "metadata": {},
   "outputs": [],
   "source": []
  },
  {
   "cell_type": "code",
   "execution_count": null,
   "id": "patient-insured",
   "metadata": {},
   "outputs": [],
   "source": []
  }
 ],
 "metadata": {
  "kernelspec": {
   "display_name": "Python 3",
   "language": "python",
   "name": "python3"
  },
  "language_info": {
   "codemirror_mode": {
    "name": "ipython",
    "version": 3
   },
   "file_extension": ".py",
   "mimetype": "text/x-python",
   "name": "python",
   "nbconvert_exporter": "python",
   "pygments_lexer": "ipython3",
   "version": "3.7.4"
  }
 },
 "nbformat": 4,
 "nbformat_minor": 5
}
